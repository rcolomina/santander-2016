{
 "cells": [
  {
   "cell_type": "code",
   "execution_count": 155,
   "metadata": {
    "collapsed": true
   },
   "outputs": [],
   "source": [
    "import pandas as pd\n",
    "import numpy as np\n",
    "import re"
   ]
  },
  {
   "cell_type": "code",
   "execution_count": 183,
   "metadata": {
    "collapsed": false
   },
   "outputs": [],
   "source": [
    "def parse_line(line):\n",
    "    d = {}\n",
    "    keys = ['a', 'w', 'N_forest', 'n_trees', 'auc_roc']\n",
    "    nums = re.findall(\"\\d+\", line)\n",
    "    temp = nums.pop()\n",
    "    nums[-1]+= '.' + temp\n",
    "    if nums[0] == '0':\n",
    "        temp = nums.pop(0)\n",
    "        nums[0]='0.' + nums[0]\n",
    "    d[keys[0]] = 1/np.float(nums[0])\n",
    "    d[keys[1]] = np.float(nums[1])\n",
    "    d[keys[2]] = np.int(nums[2])\n",
    "    d[keys[3]] = np.int(nums[3])\n",
    "    d[keys[4]] = np.float(nums[4])\n",
    "    df=pd.DataFrame(columns = keys)\n",
    "    return df.append(d, ignore_index = True)"
   ]
  },
  {
   "cell_type": "code",
   "execution_count": 184,
   "metadata": {
    "collapsed": false
   },
   "outputs": [],
   "source": [
    "def transform(file_name):\n",
    "    df = pd.DataFrame(columns=['a', 'w', 'N_forest', 'n_trees', 'auc_roc'])\n",
    "    with open(file_name, 'r') as f:\n",
    "        for line in f.readlines():\n",
    "            df = df.append(parse_line(line), ignore_index=True)\n",
    "    return df"
   ]
  },
  {
   "cell_type": "code",
   "execution_count": null,
   "metadata": {
    "collapsed": true
   },
   "outputs": [],
   "source": []
  }
 ],
 "metadata": {
  "kernelspec": {
   "display_name": "Python 3",
   "language": "python",
   "name": "python3"
  },
  "language_info": {
   "codemirror_mode": {
    "name": "ipython",
    "version": 3
   },
   "file_extension": ".py",
   "mimetype": "text/x-python",
   "name": "python",
   "nbconvert_exporter": "python",
   "pygments_lexer": "ipython3",
   "version": "3.5.2"
  }
 },
 "nbformat": 4,
 "nbformat_minor": 0
}
